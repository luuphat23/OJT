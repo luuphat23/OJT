{
 "cells": [
  {
   "cell_type": "code",
   "execution_count": 2,
   "metadata": {},
   "outputs": [],
   "source": [
    "import tritonclient.http as httpclient\n",
    "\n",
    "client = httpclient.InferenceServerClient(url=\"localhost:8000\")\n",
    "\n",
    "import cv2\n",
    "import numpy as np\n",
    "img = cv2.imread(\"cat.jpg\")\n",
    "\n",
    "img = cv2.resize(img, (224, 224))\n",
    "img = cv2.cvtColor(img, cv2.COLOR_BGR2RGB)\n",
    "img = img.transpose((2, 0, 1))\n",
    "\n",
    "transformed_img = np.expand_dims(img, axis=0).astype(np.float32)\n",
    "transformed_img = np.array([img], dtype=np.float32)\n",
    "\n",
    "\n",
    "\n",
    "inputs = httpclient.InferInput(\"data_0\", transformed_img.shape, datatype=\"FP32\")\n",
    "inputs.set_data_from_numpy(transformed_img, binary_data=True)\n",
    "\n",
    "outputs = httpclient.InferRequestedOutput(\"fc6_1\", binary_data=True, class_count=1000)\n"
   ]
  },
  {
   "cell_type": "code",
   "execution_count": 3,
   "metadata": {},
   "outputs": [
    {
     "name": "stdout",
     "output_type": "stream",
     "text": [
      "['34.865158:409' '31.032894:916' '30.762917:920' '30.430737:530'\n",
      " '28.804327:559']\n"
     ]
    }
   ],
   "source": [
    "# Querying the server\n",
    "results = client.infer(model_name=\"densenet_onnx\", inputs=[inputs], outputs=[outputs])\n",
    "inference_output = results.as_numpy('fc6_1').astype(str)\n",
    "\n",
    "print(np.squeeze(inference_output)[:5])"
   ]
  }
 ],
 "metadata": {
  "kernelspec": {
   "display_name": "Python 3",
   "language": "python",
   "name": "python3"
  },
  "language_info": {
   "codemirror_mode": {
    "name": "ipython",
    "version": 3
   },
   "file_extension": ".py",
   "mimetype": "text/x-python",
   "name": "python",
   "nbconvert_exporter": "python",
   "pygments_lexer": "ipython3",
   "version": "3.11.9"
  }
 },
 "nbformat": 4,
 "nbformat_minor": 2
}
