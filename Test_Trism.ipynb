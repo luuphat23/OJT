{
 "cells": [
  {
   "cell_type": "code",
   "execution_count": 1,
   "metadata": {},
   "outputs": [],
   "source": [
    "from trism import TritonModel\n",
    "import numpy as np\n",
    "import cv2\n"
   ]
  },
  {
   "cell_type": "code",
   "execution_count": 3,
   "metadata": {},
   "outputs": [
    {
     "name": "stdout",
     "output_type": "stream",
     "text": [
      "name: data_0, shape: [1, 3, 224, 224], datatype: <class 'numpy.float32'>\n",
      "\n",
      "name: fc6_1, shape: [1, 1000, 1, 1], datatype: <class 'numpy.float32'>\n",
      "\n"
     ]
    }
   ],
   "source": [
    "# Create triton model.\n",
    "model = TritonModel(\n",
    "  model=\"densenet_onnx\",     # Model name.\n",
    "  version=1,            # Model version.\n",
    "  url=\"localhost:8001\", # Triton Server URL.\n",
    "  grpc=True             # Use gRPC or Http.\n",
    ")\n",
    "\n",
    "# View metadata.\n",
    "for inp in model.inputs:\n",
    "  print(f\"name: {inp.name}, shape: {inp.shape}, datatype: {inp.dtype}\\n\")\n",
    "for out in model.outputs:\n",
    "  print(f\"name: {out.name}, shape: {out.shape}, datatype: {out.dtype}\\n\")"
   ]
  },
  {
   "cell_type": "code",
   "execution_count": 4,
   "metadata": {},
   "outputs": [
    {
     "name": "stdout",
     "output_type": "stream",
     "text": [
      "[np.float32(42.97848), np.float32(40.09883), np.float32(34.8051), np.float32(34.803448), np.float32(34.702236), np.float32(32.643127)]\n"
     ]
    }
   ],
   "source": [
    "img = cv2.imread(r\"C:\\Users\\Asus\\Downloads\\480808028_3911263499161208_3363965519956190129_n.png\")\n",
    "img = cv2.resize(img, (224, 224))\n",
    "img = cv2.cvtColor(img, cv2.COLOR_BGR2RGB)\n",
    "img = img.transpose((2, 0, 1))\n",
    "transformed_img = np.expand_dims(img, axis=0).astype(np.float32)\n",
    "# Inference\n",
    "outputs = model.run(data=[transformed_img])\n",
    "print(sorted(np.squeeze(outputs['fc6_1']), reverse=True)[:6])"
   ]
  },
  {
   "cell_type": "code",
   "execution_count": null,
   "metadata": {},
   "outputs": [],
   "source": []
  }
 ],
 "metadata": {
  "kernelspec": {
   "display_name": "Python 3",
   "language": "python",
   "name": "python3"
  },
  "language_info": {
   "codemirror_mode": {
    "name": "ipython",
    "version": 3
   },
   "file_extension": ".py",
   "mimetype": "text/x-python",
   "name": "python",
   "nbconvert_exporter": "python",
   "pygments_lexer": "ipython3",
   "version": "3.11.9"
  }
 },
 "nbformat": 4,
 "nbformat_minor": 2
}
